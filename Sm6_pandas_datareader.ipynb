{
  "nbformat": 4,
  "nbformat_minor": 0,
  "metadata": {
    "colab": {
      "provenance": []
    },
    "kernelspec": {
      "name": "python3",
      "display_name": "Python 3"
    },
    "language_info": {
      "name": "python"
    }
  },
  "cells": [
    {
      "cell_type": "markdown",
      "source": [
        "## **pandas_datareader**\n",
        "\n",
        "Esta biblioteca permirte acceder a distintos Set de Datos de forma remota.\n",
        "\n",
        "\n",
        "A continuación revisaremos algunas conexiones que ofrece esta biblioteca."
      ],
      "metadata": {
        "id": "wcLdr3ct6O_E"
      }
    },
    {
      "cell_type": "code",
      "execution_count": 1,
      "metadata": {
        "id": "5LlZfacYBffS",
        "colab": {
          "base_uri": "https://localhost:8080/"
        },
        "outputId": "31783245-51ef-49f2-8099-72d5df813708"
      },
      "outputs": [
        {
          "output_type": "stream",
          "name": "stdout",
          "text": [
            "Requirement already satisfied: pandas_datareader in /usr/local/lib/python3.11/dist-packages (0.10.0)\n",
            "Requirement already satisfied: lxml in /usr/local/lib/python3.11/dist-packages (from pandas_datareader) (5.4.0)\n",
            "Requirement already satisfied: pandas>=0.23 in /usr/local/lib/python3.11/dist-packages (from pandas_datareader) (2.2.2)\n",
            "Requirement already satisfied: requests>=2.19.0 in /usr/local/lib/python3.11/dist-packages (from pandas_datareader) (2.32.3)\n",
            "Requirement already satisfied: numpy>=1.23.2 in /usr/local/lib/python3.11/dist-packages (from pandas>=0.23->pandas_datareader) (2.0.2)\n",
            "Requirement already satisfied: python-dateutil>=2.8.2 in /usr/local/lib/python3.11/dist-packages (from pandas>=0.23->pandas_datareader) (2.9.0.post0)\n",
            "Requirement already satisfied: pytz>=2020.1 in /usr/local/lib/python3.11/dist-packages (from pandas>=0.23->pandas_datareader) (2025.2)\n",
            "Requirement already satisfied: tzdata>=2022.7 in /usr/local/lib/python3.11/dist-packages (from pandas>=0.23->pandas_datareader) (2025.2)\n",
            "Requirement already satisfied: charset-normalizer<4,>=2 in /usr/local/lib/python3.11/dist-packages (from requests>=2.19.0->pandas_datareader) (3.4.2)\n",
            "Requirement already satisfied: idna<4,>=2.5 in /usr/local/lib/python3.11/dist-packages (from requests>=2.19.0->pandas_datareader) (3.10)\n",
            "Requirement already satisfied: urllib3<3,>=1.21.1 in /usr/local/lib/python3.11/dist-packages (from requests>=2.19.0->pandas_datareader) (2.4.0)\n",
            "Requirement already satisfied: certifi>=2017.4.17 in /usr/local/lib/python3.11/dist-packages (from requests>=2.19.0->pandas_datareader) (2025.6.15)\n",
            "Requirement already satisfied: six>=1.5 in /usr/local/lib/python3.11/dist-packages (from python-dateutil>=2.8.2->pandas>=0.23->pandas_datareader) (1.17.0)\n"
          ]
        }
      ],
      "source": [
        "%pip install pandas_datareader"
      ]
    },
    {
      "cell_type": "code",
      "source": [
        "from IPython.display import IFrame\n",
        "\n",
        "# Mostrar la documentación de pandas-datareader en un iframe\n",
        "IFrame('https://pandas-datareader.readthedocs.io/en/latest/py-modindex.html', width=1000, height=400)\n"
      ],
      "metadata": {
        "colab": {
          "base_uri": "https://localhost:8080/",
          "height": 421
        },
        "id": "094GIddrSGO3",
        "outputId": "212daa64-f50e-4aa2-c2c1-e98ff802f37e"
      },
      "execution_count": 2,
      "outputs": [
        {
          "output_type": "execute_result",
          "data": {
            "text/plain": [
              "<IPython.lib.display.IFrame at 0x7d93ba981590>"
            ],
            "text/html": [
              "\n",
              "        <iframe\n",
              "            width=\"1000\"\n",
              "            height=\"400\"\n",
              "            src=\"https://pandas-datareader.readthedocs.io/en/latest/py-modindex.html\"\n",
              "            frameborder=\"0\"\n",
              "            allowfullscreen\n",
              "            \n",
              "        ></iframe>\n",
              "        "
            ]
          },
          "metadata": {},
          "execution_count": 2
        }
      ]
    },
    {
      "cell_type": "markdown",
      "source": [
        "## Información obtenida desde el Banco Mundial"
      ],
      "metadata": {
        "id": "3lTfKJeVTy5O"
      }
    },
    {
      "cell_type": "code",
      "source": [
        "from pandas_datareader import wb\n",
        "from datetime import datetime"
      ],
      "metadata": {
        "id": "HB1x1_T_Q65u"
      },
      "execution_count": 3,
      "outputs": []
    },
    {
      "cell_type": "markdown",
      "source": [
        "### Seleccionar Paises\n",
        "\n",
        "`pandas_datareader.wb.get_countries(**kwargs)`\n",
        "\n",
        "Información administrativa de los paises registrados en la base de datos del Banco Mundial."
      ],
      "metadata": {
        "id": "RsfvaGkcT683"
      }
    },
    {
      "cell_type": "code",
      "source": [
        "wb.get_countries()"
      ],
      "metadata": {
        "colab": {
          "base_uri": "https://localhost:8080/",
          "height": 424
        },
        "id": "0zdIHB3bQJu1",
        "outputId": "90ff85e2-9127-454f-949a-d81d2dce173a"
      },
      "execution_count": 4,
      "outputs": [
        {
          "output_type": "execute_result",
          "data": {
            "text/plain": [
              "    iso3c iso2c                                               name  \\\n",
              "0     ABW    AW                                              Aruba   \n",
              "1     AFE    ZH                        Africa Eastern and Southern   \n",
              "2     AFG    AF                                        Afghanistan   \n",
              "3     AFR    A9                                             Africa   \n",
              "4     AFW    ZI                         Africa Western and Central   \n",
              "..    ...   ...                                                ...   \n",
              "291   XZN    A5  Sub-Saharan Africa excluding South Africa and ...   \n",
              "292   YEM    YE                                        Yemen, Rep.   \n",
              "293   ZAF    ZA                                       South Africa   \n",
              "294   ZMB    ZM                                             Zambia   \n",
              "295   ZWE    ZW                                           Zimbabwe   \n",
              "\n",
              "                                                region  \\\n",
              "0                           Latin America & Caribbean    \n",
              "1                                           Aggregates   \n",
              "2    Middle East, North Africa, Afghanistan & Pakistan   \n",
              "3                                           Aggregates   \n",
              "4                                           Aggregates   \n",
              "..                                                 ...   \n",
              "291                                         Aggregates   \n",
              "292  Middle East, North Africa, Afghanistan & Pakistan   \n",
              "293                                Sub-Saharan Africa    \n",
              "294                                Sub-Saharan Africa    \n",
              "295                                Sub-Saharan Africa    \n",
              "\n",
              "                                           adminregion          incomeLevel  \\\n",
              "0                                                               High income   \n",
              "1                                                                Aggregates   \n",
              "2    Middle East, North Africa, Afghanistan & Pakis...           Low income   \n",
              "3                                                                Aggregates   \n",
              "4                                                                Aggregates   \n",
              "..                                                 ...                  ...   \n",
              "291                                                              Aggregates   \n",
              "292  Middle East, North Africa, Afghanistan & Pakis...           Low income   \n",
              "293         Sub-Saharan Africa (excluding high income)  Upper middle income   \n",
              "294         Sub-Saharan Africa (excluding high income)  Lower middle income   \n",
              "295         Sub-Saharan Africa (excluding high income)  Lower middle income   \n",
              "\n",
              "        lendingType capitalCity  longitude  latitude  \n",
              "0    Not classified  Oranjestad   -70.0167   12.5167  \n",
              "1        Aggregates                    NaN       NaN  \n",
              "2               IDA       Kabul    69.1761   34.5228  \n",
              "3        Aggregates                    NaN       NaN  \n",
              "4        Aggregates                    NaN       NaN  \n",
              "..              ...         ...        ...       ...  \n",
              "291      Aggregates                    NaN       NaN  \n",
              "292             IDA      Sana'a    44.2075   15.3520  \n",
              "293            IBRD    Pretoria    28.1871  -25.7460  \n",
              "294             IDA      Lusaka    28.2937  -15.3982  \n",
              "295           Blend      Harare    31.0672  -17.8312  \n",
              "\n",
              "[296 rows x 10 columns]"
            ],
            "text/html": [
              "\n",
              "  <div id=\"df-9cd4945b-3ddd-4183-a19d-af1b0ad27139\" class=\"colab-df-container\">\n",
              "    <div>\n",
              "<style scoped>\n",
              "    .dataframe tbody tr th:only-of-type {\n",
              "        vertical-align: middle;\n",
              "    }\n",
              "\n",
              "    .dataframe tbody tr th {\n",
              "        vertical-align: top;\n",
              "    }\n",
              "\n",
              "    .dataframe thead th {\n",
              "        text-align: right;\n",
              "    }\n",
              "</style>\n",
              "<table border=\"1\" class=\"dataframe\">\n",
              "  <thead>\n",
              "    <tr style=\"text-align: right;\">\n",
              "      <th></th>\n",
              "      <th>iso3c</th>\n",
              "      <th>iso2c</th>\n",
              "      <th>name</th>\n",
              "      <th>region</th>\n",
              "      <th>adminregion</th>\n",
              "      <th>incomeLevel</th>\n",
              "      <th>lendingType</th>\n",
              "      <th>capitalCity</th>\n",
              "      <th>longitude</th>\n",
              "      <th>latitude</th>\n",
              "    </tr>\n",
              "  </thead>\n",
              "  <tbody>\n",
              "    <tr>\n",
              "      <th>0</th>\n",
              "      <td>ABW</td>\n",
              "      <td>AW</td>\n",
              "      <td>Aruba</td>\n",
              "      <td>Latin America &amp; Caribbean</td>\n",
              "      <td></td>\n",
              "      <td>High income</td>\n",
              "      <td>Not classified</td>\n",
              "      <td>Oranjestad</td>\n",
              "      <td>-70.0167</td>\n",
              "      <td>12.5167</td>\n",
              "    </tr>\n",
              "    <tr>\n",
              "      <th>1</th>\n",
              "      <td>AFE</td>\n",
              "      <td>ZH</td>\n",
              "      <td>Africa Eastern and Southern</td>\n",
              "      <td>Aggregates</td>\n",
              "      <td></td>\n",
              "      <td>Aggregates</td>\n",
              "      <td>Aggregates</td>\n",
              "      <td></td>\n",
              "      <td>NaN</td>\n",
              "      <td>NaN</td>\n",
              "    </tr>\n",
              "    <tr>\n",
              "      <th>2</th>\n",
              "      <td>AFG</td>\n",
              "      <td>AF</td>\n",
              "      <td>Afghanistan</td>\n",
              "      <td>Middle East, North Africa, Afghanistan &amp; Pakistan</td>\n",
              "      <td>Middle East, North Africa, Afghanistan &amp; Pakis...</td>\n",
              "      <td>Low income</td>\n",
              "      <td>IDA</td>\n",
              "      <td>Kabul</td>\n",
              "      <td>69.1761</td>\n",
              "      <td>34.5228</td>\n",
              "    </tr>\n",
              "    <tr>\n",
              "      <th>3</th>\n",
              "      <td>AFR</td>\n",
              "      <td>A9</td>\n",
              "      <td>Africa</td>\n",
              "      <td>Aggregates</td>\n",
              "      <td></td>\n",
              "      <td>Aggregates</td>\n",
              "      <td>Aggregates</td>\n",
              "      <td></td>\n",
              "      <td>NaN</td>\n",
              "      <td>NaN</td>\n",
              "    </tr>\n",
              "    <tr>\n",
              "      <th>4</th>\n",
              "      <td>AFW</td>\n",
              "      <td>ZI</td>\n",
              "      <td>Africa Western and Central</td>\n",
              "      <td>Aggregates</td>\n",
              "      <td></td>\n",
              "      <td>Aggregates</td>\n",
              "      <td>Aggregates</td>\n",
              "      <td></td>\n",
              "      <td>NaN</td>\n",
              "      <td>NaN</td>\n",
              "    </tr>\n",
              "    <tr>\n",
              "      <th>...</th>\n",
              "      <td>...</td>\n",
              "      <td>...</td>\n",
              "      <td>...</td>\n",
              "      <td>...</td>\n",
              "      <td>...</td>\n",
              "      <td>...</td>\n",
              "      <td>...</td>\n",
              "      <td>...</td>\n",
              "      <td>...</td>\n",
              "      <td>...</td>\n",
              "    </tr>\n",
              "    <tr>\n",
              "      <th>291</th>\n",
              "      <td>XZN</td>\n",
              "      <td>A5</td>\n",
              "      <td>Sub-Saharan Africa excluding South Africa and ...</td>\n",
              "      <td>Aggregates</td>\n",
              "      <td></td>\n",
              "      <td>Aggregates</td>\n",
              "      <td>Aggregates</td>\n",
              "      <td></td>\n",
              "      <td>NaN</td>\n",
              "      <td>NaN</td>\n",
              "    </tr>\n",
              "    <tr>\n",
              "      <th>292</th>\n",
              "      <td>YEM</td>\n",
              "      <td>YE</td>\n",
              "      <td>Yemen, Rep.</td>\n",
              "      <td>Middle East, North Africa, Afghanistan &amp; Pakistan</td>\n",
              "      <td>Middle East, North Africa, Afghanistan &amp; Pakis...</td>\n",
              "      <td>Low income</td>\n",
              "      <td>IDA</td>\n",
              "      <td>Sana'a</td>\n",
              "      <td>44.2075</td>\n",
              "      <td>15.3520</td>\n",
              "    </tr>\n",
              "    <tr>\n",
              "      <th>293</th>\n",
              "      <td>ZAF</td>\n",
              "      <td>ZA</td>\n",
              "      <td>South Africa</td>\n",
              "      <td>Sub-Saharan Africa</td>\n",
              "      <td>Sub-Saharan Africa (excluding high income)</td>\n",
              "      <td>Upper middle income</td>\n",
              "      <td>IBRD</td>\n",
              "      <td>Pretoria</td>\n",
              "      <td>28.1871</td>\n",
              "      <td>-25.7460</td>\n",
              "    </tr>\n",
              "    <tr>\n",
              "      <th>294</th>\n",
              "      <td>ZMB</td>\n",
              "      <td>ZM</td>\n",
              "      <td>Zambia</td>\n",
              "      <td>Sub-Saharan Africa</td>\n",
              "      <td>Sub-Saharan Africa (excluding high income)</td>\n",
              "      <td>Lower middle income</td>\n",
              "      <td>IDA</td>\n",
              "      <td>Lusaka</td>\n",
              "      <td>28.2937</td>\n",
              "      <td>-15.3982</td>\n",
              "    </tr>\n",
              "    <tr>\n",
              "      <th>295</th>\n",
              "      <td>ZWE</td>\n",
              "      <td>ZW</td>\n",
              "      <td>Zimbabwe</td>\n",
              "      <td>Sub-Saharan Africa</td>\n",
              "      <td>Sub-Saharan Africa (excluding high income)</td>\n",
              "      <td>Lower middle income</td>\n",
              "      <td>Blend</td>\n",
              "      <td>Harare</td>\n",
              "      <td>31.0672</td>\n",
              "      <td>-17.8312</td>\n",
              "    </tr>\n",
              "  </tbody>\n",
              "</table>\n",
              "<p>296 rows × 10 columns</p>\n",
              "</div>\n",
              "    <div class=\"colab-df-buttons\">\n",
              "\n",
              "  <div class=\"colab-df-container\">\n",
              "    <button class=\"colab-df-convert\" onclick=\"convertToInteractive('df-9cd4945b-3ddd-4183-a19d-af1b0ad27139')\"\n",
              "            title=\"Convert this dataframe to an interactive table.\"\n",
              "            style=\"display:none;\">\n",
              "\n",
              "  <svg xmlns=\"http://www.w3.org/2000/svg\" height=\"24px\" viewBox=\"0 -960 960 960\">\n",
              "    <path d=\"M120-120v-720h720v720H120Zm60-500h600v-160H180v160Zm220 220h160v-160H400v160Zm0 220h160v-160H400v160ZM180-400h160v-160H180v160Zm440 0h160v-160H620v160ZM180-180h160v-160H180v160Zm440 0h160v-160H620v160Z\"/>\n",
              "  </svg>\n",
              "    </button>\n",
              "\n",
              "  <style>\n",
              "    .colab-df-container {\n",
              "      display:flex;\n",
              "      gap: 12px;\n",
              "    }\n",
              "\n",
              "    .colab-df-convert {\n",
              "      background-color: #E8F0FE;\n",
              "      border: none;\n",
              "      border-radius: 50%;\n",
              "      cursor: pointer;\n",
              "      display: none;\n",
              "      fill: #1967D2;\n",
              "      height: 32px;\n",
              "      padding: 0 0 0 0;\n",
              "      width: 32px;\n",
              "    }\n",
              "\n",
              "    .colab-df-convert:hover {\n",
              "      background-color: #E2EBFA;\n",
              "      box-shadow: 0px 1px 2px rgba(60, 64, 67, 0.3), 0px 1px 3px 1px rgba(60, 64, 67, 0.15);\n",
              "      fill: #174EA6;\n",
              "    }\n",
              "\n",
              "    .colab-df-buttons div {\n",
              "      margin-bottom: 4px;\n",
              "    }\n",
              "\n",
              "    [theme=dark] .colab-df-convert {\n",
              "      background-color: #3B4455;\n",
              "      fill: #D2E3FC;\n",
              "    }\n",
              "\n",
              "    [theme=dark] .colab-df-convert:hover {\n",
              "      background-color: #434B5C;\n",
              "      box-shadow: 0px 1px 3px 1px rgba(0, 0, 0, 0.15);\n",
              "      filter: drop-shadow(0px 1px 2px rgba(0, 0, 0, 0.3));\n",
              "      fill: #FFFFFF;\n",
              "    }\n",
              "  </style>\n",
              "\n",
              "    <script>\n",
              "      const buttonEl =\n",
              "        document.querySelector('#df-9cd4945b-3ddd-4183-a19d-af1b0ad27139 button.colab-df-convert');\n",
              "      buttonEl.style.display =\n",
              "        google.colab.kernel.accessAllowed ? 'block' : 'none';\n",
              "\n",
              "      async function convertToInteractive(key) {\n",
              "        const element = document.querySelector('#df-9cd4945b-3ddd-4183-a19d-af1b0ad27139');\n",
              "        const dataTable =\n",
              "          await google.colab.kernel.invokeFunction('convertToInteractive',\n",
              "                                                    [key], {});\n",
              "        if (!dataTable) return;\n",
              "\n",
              "        const docLinkHtml = 'Like what you see? Visit the ' +\n",
              "          '<a target=\"_blank\" href=https://colab.research.google.com/notebooks/data_table.ipynb>data table notebook</a>'\n",
              "          + ' to learn more about interactive tables.';\n",
              "        element.innerHTML = '';\n",
              "        dataTable['output_type'] = 'display_data';\n",
              "        await google.colab.output.renderOutput(dataTable, element);\n",
              "        const docLink = document.createElement('div');\n",
              "        docLink.innerHTML = docLinkHtml;\n",
              "        element.appendChild(docLink);\n",
              "      }\n",
              "    </script>\n",
              "  </div>\n",
              "\n",
              "\n",
              "    <div id=\"df-9df8c69d-6cf9-49ce-933e-c0d4d2523d65\">\n",
              "      <button class=\"colab-df-quickchart\" onclick=\"quickchart('df-9df8c69d-6cf9-49ce-933e-c0d4d2523d65')\"\n",
              "                title=\"Suggest charts\"\n",
              "                style=\"display:none;\">\n",
              "\n",
              "<svg xmlns=\"http://www.w3.org/2000/svg\" height=\"24px\"viewBox=\"0 0 24 24\"\n",
              "     width=\"24px\">\n",
              "    <g>\n",
              "        <path d=\"M19 3H5c-1.1 0-2 .9-2 2v14c0 1.1.9 2 2 2h14c1.1 0 2-.9 2-2V5c0-1.1-.9-2-2-2zM9 17H7v-7h2v7zm4 0h-2V7h2v10zm4 0h-2v-4h2v4z\"/>\n",
              "    </g>\n",
              "</svg>\n",
              "      </button>\n",
              "\n",
              "<style>\n",
              "  .colab-df-quickchart {\n",
              "      --bg-color: #E8F0FE;\n",
              "      --fill-color: #1967D2;\n",
              "      --hover-bg-color: #E2EBFA;\n",
              "      --hover-fill-color: #174EA6;\n",
              "      --disabled-fill-color: #AAA;\n",
              "      --disabled-bg-color: #DDD;\n",
              "  }\n",
              "\n",
              "  [theme=dark] .colab-df-quickchart {\n",
              "      --bg-color: #3B4455;\n",
              "      --fill-color: #D2E3FC;\n",
              "      --hover-bg-color: #434B5C;\n",
              "      --hover-fill-color: #FFFFFF;\n",
              "      --disabled-bg-color: #3B4455;\n",
              "      --disabled-fill-color: #666;\n",
              "  }\n",
              "\n",
              "  .colab-df-quickchart {\n",
              "    background-color: var(--bg-color);\n",
              "    border: none;\n",
              "    border-radius: 50%;\n",
              "    cursor: pointer;\n",
              "    display: none;\n",
              "    fill: var(--fill-color);\n",
              "    height: 32px;\n",
              "    padding: 0;\n",
              "    width: 32px;\n",
              "  }\n",
              "\n",
              "  .colab-df-quickchart:hover {\n",
              "    background-color: var(--hover-bg-color);\n",
              "    box-shadow: 0 1px 2px rgba(60, 64, 67, 0.3), 0 1px 3px 1px rgba(60, 64, 67, 0.15);\n",
              "    fill: var(--button-hover-fill-color);\n",
              "  }\n",
              "\n",
              "  .colab-df-quickchart-complete:disabled,\n",
              "  .colab-df-quickchart-complete:disabled:hover {\n",
              "    background-color: var(--disabled-bg-color);\n",
              "    fill: var(--disabled-fill-color);\n",
              "    box-shadow: none;\n",
              "  }\n",
              "\n",
              "  .colab-df-spinner {\n",
              "    border: 2px solid var(--fill-color);\n",
              "    border-color: transparent;\n",
              "    border-bottom-color: var(--fill-color);\n",
              "    animation:\n",
              "      spin 1s steps(1) infinite;\n",
              "  }\n",
              "\n",
              "  @keyframes spin {\n",
              "    0% {\n",
              "      border-color: transparent;\n",
              "      border-bottom-color: var(--fill-color);\n",
              "      border-left-color: var(--fill-color);\n",
              "    }\n",
              "    20% {\n",
              "      border-color: transparent;\n",
              "      border-left-color: var(--fill-color);\n",
              "      border-top-color: var(--fill-color);\n",
              "    }\n",
              "    30% {\n",
              "      border-color: transparent;\n",
              "      border-left-color: var(--fill-color);\n",
              "      border-top-color: var(--fill-color);\n",
              "      border-right-color: var(--fill-color);\n",
              "    }\n",
              "    40% {\n",
              "      border-color: transparent;\n",
              "      border-right-color: var(--fill-color);\n",
              "      border-top-color: var(--fill-color);\n",
              "    }\n",
              "    60% {\n",
              "      border-color: transparent;\n",
              "      border-right-color: var(--fill-color);\n",
              "    }\n",
              "    80% {\n",
              "      border-color: transparent;\n",
              "      border-right-color: var(--fill-color);\n",
              "      border-bottom-color: var(--fill-color);\n",
              "    }\n",
              "    90% {\n",
              "      border-color: transparent;\n",
              "      border-bottom-color: var(--fill-color);\n",
              "    }\n",
              "  }\n",
              "</style>\n",
              "\n",
              "      <script>\n",
              "        async function quickchart(key) {\n",
              "          const quickchartButtonEl =\n",
              "            document.querySelector('#' + key + ' button');\n",
              "          quickchartButtonEl.disabled = true;  // To prevent multiple clicks.\n",
              "          quickchartButtonEl.classList.add('colab-df-spinner');\n",
              "          try {\n",
              "            const charts = await google.colab.kernel.invokeFunction(\n",
              "                'suggestCharts', [key], {});\n",
              "          } catch (error) {\n",
              "            console.error('Error during call to suggestCharts:', error);\n",
              "          }\n",
              "          quickchartButtonEl.classList.remove('colab-df-spinner');\n",
              "          quickchartButtonEl.classList.add('colab-df-quickchart-complete');\n",
              "        }\n",
              "        (() => {\n",
              "          let quickchartButtonEl =\n",
              "            document.querySelector('#df-9df8c69d-6cf9-49ce-933e-c0d4d2523d65 button');\n",
              "          quickchartButtonEl.style.display =\n",
              "            google.colab.kernel.accessAllowed ? 'block' : 'none';\n",
              "        })();\n",
              "      </script>\n",
              "    </div>\n",
              "\n",
              "    </div>\n",
              "  </div>\n"
            ],
            "application/vnd.google.colaboratory.intrinsic+json": {
              "type": "dataframe",
              "summary": "{\n  \"name\": \"wb\",\n  \"rows\": 296,\n  \"fields\": [\n    {\n      \"column\": \"iso3c\",\n      \"properties\": {\n        \"dtype\": \"string\",\n        \"num_unique_values\": 296,\n        \"samples\": [\n          \"TUV\",\n          \"LBY\",\n          \"EAS\"\n        ],\n        \"semantic_type\": \"\",\n        \"description\": \"\"\n      }\n    },\n    {\n      \"column\": \"iso2c\",\n      \"properties\": {\n        \"dtype\": \"string\",\n        \"num_unique_values\": 296,\n        \"samples\": [\n          \"TV\",\n          \"LY\",\n          \"Z4\"\n        ],\n        \"semantic_type\": \"\",\n        \"description\": \"\"\n      }\n    },\n    {\n      \"column\": \"name\",\n      \"properties\": {\n        \"dtype\": \"string\",\n        \"num_unique_values\": 296,\n        \"samples\": [\n          \"Tuvalu\",\n          \"Libya\",\n          \"East Asia & Pacific\"\n        ],\n        \"semantic_type\": \"\",\n        \"description\": \"\"\n      }\n    },\n    {\n      \"column\": \"region\",\n      \"properties\": {\n        \"dtype\": \"category\",\n        \"num_unique_values\": 8,\n        \"samples\": [\n          \"Aggregates\",\n          \"East Asia & Pacific\",\n          \"Latin America & Caribbean \"\n        ],\n        \"semantic_type\": \"\",\n        \"description\": \"\"\n      }\n    },\n    {\n      \"column\": \"adminregion\",\n      \"properties\": {\n        \"dtype\": \"category\",\n        \"num_unique_values\": 7,\n        \"samples\": [\n          \"\",\n          \"Middle East, North Africa, Afghanistan & Pakistan (excluding high income)\",\n          \"South Asia\"\n        ],\n        \"semantic_type\": \"\",\n        \"description\": \"\"\n      }\n    },\n    {\n      \"column\": \"incomeLevel\",\n      \"properties\": {\n        \"dtype\": \"category\",\n        \"num_unique_values\": 6,\n        \"samples\": [\n          \"High income\",\n          \"Aggregates\",\n          \"Not classified\"\n        ],\n        \"semantic_type\": \"\",\n        \"description\": \"\"\n      }\n    },\n    {\n      \"column\": \"lendingType\",\n      \"properties\": {\n        \"dtype\": \"category\",\n        \"num_unique_values\": 5,\n        \"samples\": [\n          \"Aggregates\",\n          \"Blend\",\n          \"IDA\"\n        ],\n        \"semantic_type\": \"\",\n        \"description\": \"\"\n      }\n    },\n    {\n      \"column\": \"capitalCity\",\n      \"properties\": {\n        \"dtype\": \"string\",\n        \"num_unique_values\": 212,\n        \"samples\": [\n          \"Thimphu\",\n          \"Sao Tome\",\n          \"Amsterdam\"\n        ],\n        \"semantic_type\": \"\",\n        \"description\": \"\"\n      }\n    },\n    {\n      \"column\": \"longitude\",\n      \"properties\": {\n        \"dtype\": \"number\",\n        \"std\": 70.39106873390224,\n        \"min\": -175.216,\n        \"max\": 179.089567,\n        \"num_unique_values\": 211,\n        \"samples\": [\n          25.9201,\n          6.6071,\n          4.89095\n        ],\n        \"semantic_type\": \"\",\n        \"description\": \"\"\n      }\n    },\n    {\n      \"column\": \"latitude\",\n      \"properties\": {\n        \"dtype\": \"number\",\n        \"std\": 24.210876980185663,\n        \"min\": -41.2865,\n        \"max\": 64.1836,\n        \"num_unique_values\": 211,\n        \"samples\": [\n          -24.6544,\n          0.20618,\n          52.3738\n        ],\n        \"semantic_type\": \"\",\n        \"description\": \"\"\n      }\n    }\n  ]\n}"
            }
          },
          "metadata": {},
          "execution_count": 4
        }
      ]
    },
    {
      "cell_type": "code",
      "source": [
        "df_info_paises = wb.get_countries()\n",
        "df_info_paises.head()"
      ],
      "metadata": {
        "colab": {
          "base_uri": "https://localhost:8080/",
          "height": 206
        },
        "id": "E-U6bO8XTK4T",
        "outputId": "58405f91-720c-47ff-f404-fd2cd770bc8e"
      },
      "execution_count": 5,
      "outputs": [
        {
          "output_type": "execute_result",
          "data": {
            "text/plain": [
              "  iso3c iso2c                         name  \\\n",
              "0   ABW    AW                        Aruba   \n",
              "1   AFE    ZH  Africa Eastern and Southern   \n",
              "2   AFG    AF                  Afghanistan   \n",
              "3   AFR    A9                       Africa   \n",
              "4   AFW    ZI   Africa Western and Central   \n",
              "\n",
              "                                              region  \\\n",
              "0                         Latin America & Caribbean    \n",
              "1                                         Aggregates   \n",
              "2  Middle East, North Africa, Afghanistan & Pakistan   \n",
              "3                                         Aggregates   \n",
              "4                                         Aggregates   \n",
              "\n",
              "                                         adminregion  incomeLevel  \\\n",
              "0                                                     High income   \n",
              "1                                                      Aggregates   \n",
              "2  Middle East, North Africa, Afghanistan & Pakis...   Low income   \n",
              "3                                                      Aggregates   \n",
              "4                                                      Aggregates   \n",
              "\n",
              "      lendingType capitalCity  longitude  latitude  \n",
              "0  Not classified  Oranjestad   -70.0167   12.5167  \n",
              "1      Aggregates                    NaN       NaN  \n",
              "2             IDA       Kabul    69.1761   34.5228  \n",
              "3      Aggregates                    NaN       NaN  \n",
              "4      Aggregates                    NaN       NaN  "
            ],
            "text/html": [
              "\n",
              "  <div id=\"df-33384abb-e7e9-4468-8f20-75875c643766\" class=\"colab-df-container\">\n",
              "    <div>\n",
              "<style scoped>\n",
              "    .dataframe tbody tr th:only-of-type {\n",
              "        vertical-align: middle;\n",
              "    }\n",
              "\n",
              "    .dataframe tbody tr th {\n",
              "        vertical-align: top;\n",
              "    }\n",
              "\n",
              "    .dataframe thead th {\n",
              "        text-align: right;\n",
              "    }\n",
              "</style>\n",
              "<table border=\"1\" class=\"dataframe\">\n",
              "  <thead>\n",
              "    <tr style=\"text-align: right;\">\n",
              "      <th></th>\n",
              "      <th>iso3c</th>\n",
              "      <th>iso2c</th>\n",
              "      <th>name</th>\n",
              "      <th>region</th>\n",
              "      <th>adminregion</th>\n",
              "      <th>incomeLevel</th>\n",
              "      <th>lendingType</th>\n",
              "      <th>capitalCity</th>\n",
              "      <th>longitude</th>\n",
              "      <th>latitude</th>\n",
              "    </tr>\n",
              "  </thead>\n",
              "  <tbody>\n",
              "    <tr>\n",
              "      <th>0</th>\n",
              "      <td>ABW</td>\n",
              "      <td>AW</td>\n",
              "      <td>Aruba</td>\n",
              "      <td>Latin America &amp; Caribbean</td>\n",
              "      <td></td>\n",
              "      <td>High income</td>\n",
              "      <td>Not classified</td>\n",
              "      <td>Oranjestad</td>\n",
              "      <td>-70.0167</td>\n",
              "      <td>12.5167</td>\n",
              "    </tr>\n",
              "    <tr>\n",
              "      <th>1</th>\n",
              "      <td>AFE</td>\n",
              "      <td>ZH</td>\n",
              "      <td>Africa Eastern and Southern</td>\n",
              "      <td>Aggregates</td>\n",
              "      <td></td>\n",
              "      <td>Aggregates</td>\n",
              "      <td>Aggregates</td>\n",
              "      <td></td>\n",
              "      <td>NaN</td>\n",
              "      <td>NaN</td>\n",
              "    </tr>\n",
              "    <tr>\n",
              "      <th>2</th>\n",
              "      <td>AFG</td>\n",
              "      <td>AF</td>\n",
              "      <td>Afghanistan</td>\n",
              "      <td>Middle East, North Africa, Afghanistan &amp; Pakistan</td>\n",
              "      <td>Middle East, North Africa, Afghanistan &amp; Pakis...</td>\n",
              "      <td>Low income</td>\n",
              "      <td>IDA</td>\n",
              "      <td>Kabul</td>\n",
              "      <td>69.1761</td>\n",
              "      <td>34.5228</td>\n",
              "    </tr>\n",
              "    <tr>\n",
              "      <th>3</th>\n",
              "      <td>AFR</td>\n",
              "      <td>A9</td>\n",
              "      <td>Africa</td>\n",
              "      <td>Aggregates</td>\n",
              "      <td></td>\n",
              "      <td>Aggregates</td>\n",
              "      <td>Aggregates</td>\n",
              "      <td></td>\n",
              "      <td>NaN</td>\n",
              "      <td>NaN</td>\n",
              "    </tr>\n",
              "    <tr>\n",
              "      <th>4</th>\n",
              "      <td>AFW</td>\n",
              "      <td>ZI</td>\n",
              "      <td>Africa Western and Central</td>\n",
              "      <td>Aggregates</td>\n",
              "      <td></td>\n",
              "      <td>Aggregates</td>\n",
              "      <td>Aggregates</td>\n",
              "      <td></td>\n",
              "      <td>NaN</td>\n",
              "      <td>NaN</td>\n",
              "    </tr>\n",
              "  </tbody>\n",
              "</table>\n",
              "</div>\n",
              "    <div class=\"colab-df-buttons\">\n",
              "\n",
              "  <div class=\"colab-df-container\">\n",
              "    <button class=\"colab-df-convert\" onclick=\"convertToInteractive('df-33384abb-e7e9-4468-8f20-75875c643766')\"\n",
              "            title=\"Convert this dataframe to an interactive table.\"\n",
              "            style=\"display:none;\">\n",
              "\n",
              "  <svg xmlns=\"http://www.w3.org/2000/svg\" height=\"24px\" viewBox=\"0 -960 960 960\">\n",
              "    <path d=\"M120-120v-720h720v720H120Zm60-500h600v-160H180v160Zm220 220h160v-160H400v160Zm0 220h160v-160H400v160ZM180-400h160v-160H180v160Zm440 0h160v-160H620v160ZM180-180h160v-160H180v160Zm440 0h160v-160H620v160Z\"/>\n",
              "  </svg>\n",
              "    </button>\n",
              "\n",
              "  <style>\n",
              "    .colab-df-container {\n",
              "      display:flex;\n",
              "      gap: 12px;\n",
              "    }\n",
              "\n",
              "    .colab-df-convert {\n",
              "      background-color: #E8F0FE;\n",
              "      border: none;\n",
              "      border-radius: 50%;\n",
              "      cursor: pointer;\n",
              "      display: none;\n",
              "      fill: #1967D2;\n",
              "      height: 32px;\n",
              "      padding: 0 0 0 0;\n",
              "      width: 32px;\n",
              "    }\n",
              "\n",
              "    .colab-df-convert:hover {\n",
              "      background-color: #E2EBFA;\n",
              "      box-shadow: 0px 1px 2px rgba(60, 64, 67, 0.3), 0px 1px 3px 1px rgba(60, 64, 67, 0.15);\n",
              "      fill: #174EA6;\n",
              "    }\n",
              "\n",
              "    .colab-df-buttons div {\n",
              "      margin-bottom: 4px;\n",
              "    }\n",
              "\n",
              "    [theme=dark] .colab-df-convert {\n",
              "      background-color: #3B4455;\n",
              "      fill: #D2E3FC;\n",
              "    }\n",
              "\n",
              "    [theme=dark] .colab-df-convert:hover {\n",
              "      background-color: #434B5C;\n",
              "      box-shadow: 0px 1px 3px 1px rgba(0, 0, 0, 0.15);\n",
              "      filter: drop-shadow(0px 1px 2px rgba(0, 0, 0, 0.3));\n",
              "      fill: #FFFFFF;\n",
              "    }\n",
              "  </style>\n",
              "\n",
              "    <script>\n",
              "      const buttonEl =\n",
              "        document.querySelector('#df-33384abb-e7e9-4468-8f20-75875c643766 button.colab-df-convert');\n",
              "      buttonEl.style.display =\n",
              "        google.colab.kernel.accessAllowed ? 'block' : 'none';\n",
              "\n",
              "      async function convertToInteractive(key) {\n",
              "        const element = document.querySelector('#df-33384abb-e7e9-4468-8f20-75875c643766');\n",
              "        const dataTable =\n",
              "          await google.colab.kernel.invokeFunction('convertToInteractive',\n",
              "                                                    [key], {});\n",
              "        if (!dataTable) return;\n",
              "\n",
              "        const docLinkHtml = 'Like what you see? Visit the ' +\n",
              "          '<a target=\"_blank\" href=https://colab.research.google.com/notebooks/data_table.ipynb>data table notebook</a>'\n",
              "          + ' to learn more about interactive tables.';\n",
              "        element.innerHTML = '';\n",
              "        dataTable['output_type'] = 'display_data';\n",
              "        await google.colab.output.renderOutput(dataTable, element);\n",
              "        const docLink = document.createElement('div');\n",
              "        docLink.innerHTML = docLinkHtml;\n",
              "        element.appendChild(docLink);\n",
              "      }\n",
              "    </script>\n",
              "  </div>\n",
              "\n",
              "\n",
              "    <div id=\"df-d634fd5b-4a93-4572-b56a-4dc00fd6986c\">\n",
              "      <button class=\"colab-df-quickchart\" onclick=\"quickchart('df-d634fd5b-4a93-4572-b56a-4dc00fd6986c')\"\n",
              "                title=\"Suggest charts\"\n",
              "                style=\"display:none;\">\n",
              "\n",
              "<svg xmlns=\"http://www.w3.org/2000/svg\" height=\"24px\"viewBox=\"0 0 24 24\"\n",
              "     width=\"24px\">\n",
              "    <g>\n",
              "        <path d=\"M19 3H5c-1.1 0-2 .9-2 2v14c0 1.1.9 2 2 2h14c1.1 0 2-.9 2-2V5c0-1.1-.9-2-2-2zM9 17H7v-7h2v7zm4 0h-2V7h2v10zm4 0h-2v-4h2v4z\"/>\n",
              "    </g>\n",
              "</svg>\n",
              "      </button>\n",
              "\n",
              "<style>\n",
              "  .colab-df-quickchart {\n",
              "      --bg-color: #E8F0FE;\n",
              "      --fill-color: #1967D2;\n",
              "      --hover-bg-color: #E2EBFA;\n",
              "      --hover-fill-color: #174EA6;\n",
              "      --disabled-fill-color: #AAA;\n",
              "      --disabled-bg-color: #DDD;\n",
              "  }\n",
              "\n",
              "  [theme=dark] .colab-df-quickchart {\n",
              "      --bg-color: #3B4455;\n",
              "      --fill-color: #D2E3FC;\n",
              "      --hover-bg-color: #434B5C;\n",
              "      --hover-fill-color: #FFFFFF;\n",
              "      --disabled-bg-color: #3B4455;\n",
              "      --disabled-fill-color: #666;\n",
              "  }\n",
              "\n",
              "  .colab-df-quickchart {\n",
              "    background-color: var(--bg-color);\n",
              "    border: none;\n",
              "    border-radius: 50%;\n",
              "    cursor: pointer;\n",
              "    display: none;\n",
              "    fill: var(--fill-color);\n",
              "    height: 32px;\n",
              "    padding: 0;\n",
              "    width: 32px;\n",
              "  }\n",
              "\n",
              "  .colab-df-quickchart:hover {\n",
              "    background-color: var(--hover-bg-color);\n",
              "    box-shadow: 0 1px 2px rgba(60, 64, 67, 0.3), 0 1px 3px 1px rgba(60, 64, 67, 0.15);\n",
              "    fill: var(--button-hover-fill-color);\n",
              "  }\n",
              "\n",
              "  .colab-df-quickchart-complete:disabled,\n",
              "  .colab-df-quickchart-complete:disabled:hover {\n",
              "    background-color: var(--disabled-bg-color);\n",
              "    fill: var(--disabled-fill-color);\n",
              "    box-shadow: none;\n",
              "  }\n",
              "\n",
              "  .colab-df-spinner {\n",
              "    border: 2px solid var(--fill-color);\n",
              "    border-color: transparent;\n",
              "    border-bottom-color: var(--fill-color);\n",
              "    animation:\n",
              "      spin 1s steps(1) infinite;\n",
              "  }\n",
              "\n",
              "  @keyframes spin {\n",
              "    0% {\n",
              "      border-color: transparent;\n",
              "      border-bottom-color: var(--fill-color);\n",
              "      border-left-color: var(--fill-color);\n",
              "    }\n",
              "    20% {\n",
              "      border-color: transparent;\n",
              "      border-left-color: var(--fill-color);\n",
              "      border-top-color: var(--fill-color);\n",
              "    }\n",
              "    30% {\n",
              "      border-color: transparent;\n",
              "      border-left-color: var(--fill-color);\n",
              "      border-top-color: var(--fill-color);\n",
              "      border-right-color: var(--fill-color);\n",
              "    }\n",
              "    40% {\n",
              "      border-color: transparent;\n",
              "      border-right-color: var(--fill-color);\n",
              "      border-top-color: var(--fill-color);\n",
              "    }\n",
              "    60% {\n",
              "      border-color: transparent;\n",
              "      border-right-color: var(--fill-color);\n",
              "    }\n",
              "    80% {\n",
              "      border-color: transparent;\n",
              "      border-right-color: var(--fill-color);\n",
              "      border-bottom-color: var(--fill-color);\n",
              "    }\n",
              "    90% {\n",
              "      border-color: transparent;\n",
              "      border-bottom-color: var(--fill-color);\n",
              "    }\n",
              "  }\n",
              "</style>\n",
              "\n",
              "      <script>\n",
              "        async function quickchart(key) {\n",
              "          const quickchartButtonEl =\n",
              "            document.querySelector('#' + key + ' button');\n",
              "          quickchartButtonEl.disabled = true;  // To prevent multiple clicks.\n",
              "          quickchartButtonEl.classList.add('colab-df-spinner');\n",
              "          try {\n",
              "            const charts = await google.colab.kernel.invokeFunction(\n",
              "                'suggestCharts', [key], {});\n",
              "          } catch (error) {\n",
              "            console.error('Error during call to suggestCharts:', error);\n",
              "          }\n",
              "          quickchartButtonEl.classList.remove('colab-df-spinner');\n",
              "          quickchartButtonEl.classList.add('colab-df-quickchart-complete');\n",
              "        }\n",
              "        (() => {\n",
              "          let quickchartButtonEl =\n",
              "            document.querySelector('#df-d634fd5b-4a93-4572-b56a-4dc00fd6986c button');\n",
              "          quickchartButtonEl.style.display =\n",
              "            google.colab.kernel.accessAllowed ? 'block' : 'none';\n",
              "        })();\n",
              "      </script>\n",
              "    </div>\n",
              "\n",
              "    </div>\n",
              "  </div>\n"
            ],
            "application/vnd.google.colaboratory.intrinsic+json": {
              "type": "dataframe",
              "variable_name": "df_info_paises",
              "summary": "{\n  \"name\": \"df_info_paises\",\n  \"rows\": 296,\n  \"fields\": [\n    {\n      \"column\": \"iso3c\",\n      \"properties\": {\n        \"dtype\": \"string\",\n        \"num_unique_values\": 296,\n        \"samples\": [\n          \"TUV\",\n          \"LBY\",\n          \"EAS\"\n        ],\n        \"semantic_type\": \"\",\n        \"description\": \"\"\n      }\n    },\n    {\n      \"column\": \"iso2c\",\n      \"properties\": {\n        \"dtype\": \"string\",\n        \"num_unique_values\": 296,\n        \"samples\": [\n          \"TV\",\n          \"LY\",\n          \"Z4\"\n        ],\n        \"semantic_type\": \"\",\n        \"description\": \"\"\n      }\n    },\n    {\n      \"column\": \"name\",\n      \"properties\": {\n        \"dtype\": \"string\",\n        \"num_unique_values\": 296,\n        \"samples\": [\n          \"Tuvalu\",\n          \"Libya\",\n          \"East Asia & Pacific\"\n        ],\n        \"semantic_type\": \"\",\n        \"description\": \"\"\n      }\n    },\n    {\n      \"column\": \"region\",\n      \"properties\": {\n        \"dtype\": \"category\",\n        \"num_unique_values\": 8,\n        \"samples\": [\n          \"Aggregates\",\n          \"East Asia & Pacific\",\n          \"Latin America & Caribbean \"\n        ],\n        \"semantic_type\": \"\",\n        \"description\": \"\"\n      }\n    },\n    {\n      \"column\": \"adminregion\",\n      \"properties\": {\n        \"dtype\": \"category\",\n        \"num_unique_values\": 7,\n        \"samples\": [\n          \"\",\n          \"Middle East, North Africa, Afghanistan & Pakistan (excluding high income)\",\n          \"South Asia\"\n        ],\n        \"semantic_type\": \"\",\n        \"description\": \"\"\n      }\n    },\n    {\n      \"column\": \"incomeLevel\",\n      \"properties\": {\n        \"dtype\": \"category\",\n        \"num_unique_values\": 6,\n        \"samples\": [\n          \"High income\",\n          \"Aggregates\",\n          \"Not classified\"\n        ],\n        \"semantic_type\": \"\",\n        \"description\": \"\"\n      }\n    },\n    {\n      \"column\": \"lendingType\",\n      \"properties\": {\n        \"dtype\": \"category\",\n        \"num_unique_values\": 5,\n        \"samples\": [\n          \"Aggregates\",\n          \"Blend\",\n          \"IDA\"\n        ],\n        \"semantic_type\": \"\",\n        \"description\": \"\"\n      }\n    },\n    {\n      \"column\": \"capitalCity\",\n      \"properties\": {\n        \"dtype\": \"string\",\n        \"num_unique_values\": 212,\n        \"samples\": [\n          \"Thimphu\",\n          \"Sao Tome\",\n          \"Amsterdam\"\n        ],\n        \"semantic_type\": \"\",\n        \"description\": \"\"\n      }\n    },\n    {\n      \"column\": \"longitude\",\n      \"properties\": {\n        \"dtype\": \"number\",\n        \"std\": 70.39106873390224,\n        \"min\": -175.216,\n        \"max\": 179.089567,\n        \"num_unique_values\": 211,\n        \"samples\": [\n          25.9201,\n          6.6071,\n          4.89095\n        ],\n        \"semantic_type\": \"\",\n        \"description\": \"\"\n      }\n    },\n    {\n      \"column\": \"latitude\",\n      \"properties\": {\n        \"dtype\": \"number\",\n        \"std\": 24.210876980185663,\n        \"min\": -41.2865,\n        \"max\": 64.1836,\n        \"num_unique_values\": 211,\n        \"samples\": [\n          -24.6544,\n          0.20618,\n          52.3738\n        ],\n        \"semantic_type\": \"\",\n        \"description\": \"\"\n      }\n    }\n  ]\n}"
            }
          },
          "metadata": {},
          "execution_count": 5
        }
      ]
    },
    {
      "cell_type": "code",
      "source": [
        "# Seleccionar pais Chile\n",
        "df_info_paises.query(\"name=='Chile'\")"
      ],
      "metadata": {
        "colab": {
          "base_uri": "https://localhost:8080/",
          "height": 81
        },
        "id": "qLg7BRPEkX0B",
        "outputId": "97c2d267-ffc5-4275-f8af-4be098d90f7f"
      },
      "execution_count": 6,
      "outputs": [
        {
          "output_type": "execute_result",
          "data": {
            "text/plain": [
              "   iso3c iso2c   name                      region adminregion  incomeLevel  \\\n",
              "49   CHL    CL  Chile  Latin America & Caribbean               High income   \n",
              "\n",
              "   lendingType capitalCity  longitude  latitude  \n",
              "49        IBRD    Santiago   -70.6475   -33.475  "
            ],
            "text/html": [
              "\n",
              "  <div id=\"df-0e74f77e-4f96-46ff-af55-4fe3ff9d3b05\" class=\"colab-df-container\">\n",
              "    <div>\n",
              "<style scoped>\n",
              "    .dataframe tbody tr th:only-of-type {\n",
              "        vertical-align: middle;\n",
              "    }\n",
              "\n",
              "    .dataframe tbody tr th {\n",
              "        vertical-align: top;\n",
              "    }\n",
              "\n",
              "    .dataframe thead th {\n",
              "        text-align: right;\n",
              "    }\n",
              "</style>\n",
              "<table border=\"1\" class=\"dataframe\">\n",
              "  <thead>\n",
              "    <tr style=\"text-align: right;\">\n",
              "      <th></th>\n",
              "      <th>iso3c</th>\n",
              "      <th>iso2c</th>\n",
              "      <th>name</th>\n",
              "      <th>region</th>\n",
              "      <th>adminregion</th>\n",
              "      <th>incomeLevel</th>\n",
              "      <th>lendingType</th>\n",
              "      <th>capitalCity</th>\n",
              "      <th>longitude</th>\n",
              "      <th>latitude</th>\n",
              "    </tr>\n",
              "  </thead>\n",
              "  <tbody>\n",
              "    <tr>\n",
              "      <th>49</th>\n",
              "      <td>CHL</td>\n",
              "      <td>CL</td>\n",
              "      <td>Chile</td>\n",
              "      <td>Latin America &amp; Caribbean</td>\n",
              "      <td></td>\n",
              "      <td>High income</td>\n",
              "      <td>IBRD</td>\n",
              "      <td>Santiago</td>\n",
              "      <td>-70.6475</td>\n",
              "      <td>-33.475</td>\n",
              "    </tr>\n",
              "  </tbody>\n",
              "</table>\n",
              "</div>\n",
              "    <div class=\"colab-df-buttons\">\n",
              "\n",
              "  <div class=\"colab-df-container\">\n",
              "    <button class=\"colab-df-convert\" onclick=\"convertToInteractive('df-0e74f77e-4f96-46ff-af55-4fe3ff9d3b05')\"\n",
              "            title=\"Convert this dataframe to an interactive table.\"\n",
              "            style=\"display:none;\">\n",
              "\n",
              "  <svg xmlns=\"http://www.w3.org/2000/svg\" height=\"24px\" viewBox=\"0 -960 960 960\">\n",
              "    <path d=\"M120-120v-720h720v720H120Zm60-500h600v-160H180v160Zm220 220h160v-160H400v160Zm0 220h160v-160H400v160ZM180-400h160v-160H180v160Zm440 0h160v-160H620v160ZM180-180h160v-160H180v160Zm440 0h160v-160H620v160Z\"/>\n",
              "  </svg>\n",
              "    </button>\n",
              "\n",
              "  <style>\n",
              "    .colab-df-container {\n",
              "      display:flex;\n",
              "      gap: 12px;\n",
              "    }\n",
              "\n",
              "    .colab-df-convert {\n",
              "      background-color: #E8F0FE;\n",
              "      border: none;\n",
              "      border-radius: 50%;\n",
              "      cursor: pointer;\n",
              "      display: none;\n",
              "      fill: #1967D2;\n",
              "      height: 32px;\n",
              "      padding: 0 0 0 0;\n",
              "      width: 32px;\n",
              "    }\n",
              "\n",
              "    .colab-df-convert:hover {\n",
              "      background-color: #E2EBFA;\n",
              "      box-shadow: 0px 1px 2px rgba(60, 64, 67, 0.3), 0px 1px 3px 1px rgba(60, 64, 67, 0.15);\n",
              "      fill: #174EA6;\n",
              "    }\n",
              "\n",
              "    .colab-df-buttons div {\n",
              "      margin-bottom: 4px;\n",
              "    }\n",
              "\n",
              "    [theme=dark] .colab-df-convert {\n",
              "      background-color: #3B4455;\n",
              "      fill: #D2E3FC;\n",
              "    }\n",
              "\n",
              "    [theme=dark] .colab-df-convert:hover {\n",
              "      background-color: #434B5C;\n",
              "      box-shadow: 0px 1px 3px 1px rgba(0, 0, 0, 0.15);\n",
              "      filter: drop-shadow(0px 1px 2px rgba(0, 0, 0, 0.3));\n",
              "      fill: #FFFFFF;\n",
              "    }\n",
              "  </style>\n",
              "\n",
              "    <script>\n",
              "      const buttonEl =\n",
              "        document.querySelector('#df-0e74f77e-4f96-46ff-af55-4fe3ff9d3b05 button.colab-df-convert');\n",
              "      buttonEl.style.display =\n",
              "        google.colab.kernel.accessAllowed ? 'block' : 'none';\n",
              "\n",
              "      async function convertToInteractive(key) {\n",
              "        const element = document.querySelector('#df-0e74f77e-4f96-46ff-af55-4fe3ff9d3b05');\n",
              "        const dataTable =\n",
              "          await google.colab.kernel.invokeFunction('convertToInteractive',\n",
              "                                                    [key], {});\n",
              "        if (!dataTable) return;\n",
              "\n",
              "        const docLinkHtml = 'Like what you see? Visit the ' +\n",
              "          '<a target=\"_blank\" href=https://colab.research.google.com/notebooks/data_table.ipynb>data table notebook</a>'\n",
              "          + ' to learn more about interactive tables.';\n",
              "        element.innerHTML = '';\n",
              "        dataTable['output_type'] = 'display_data';\n",
              "        await google.colab.output.renderOutput(dataTable, element);\n",
              "        const docLink = document.createElement('div');\n",
              "        docLink.innerHTML = docLinkHtml;\n",
              "        element.appendChild(docLink);\n",
              "      }\n",
              "    </script>\n",
              "  </div>\n",
              "\n",
              "\n",
              "    </div>\n",
              "  </div>\n"
            ],
            "application/vnd.google.colaboratory.intrinsic+json": {
              "type": "dataframe",
              "repr_error": "0"
            }
          },
          "metadata": {},
          "execution_count": 6
        }
      ]
    },
    {
      "cell_type": "code",
      "source": [
        "df_info_paises[df_info_paises['name'].str.contains('hile')]"
      ],
      "metadata": {
        "colab": {
          "base_uri": "https://localhost:8080/",
          "height": 81
        },
        "id": "UjcWwQkLQq6A",
        "outputId": "ecc5c555-0ca4-4a9b-e110-b60f2bf4293f"
      },
      "execution_count": 7,
      "outputs": [
        {
          "output_type": "execute_result",
          "data": {
            "text/plain": [
              "   iso3c iso2c   name                      region adminregion  incomeLevel  \\\n",
              "49   CHL    CL  Chile  Latin America & Caribbean               High income   \n",
              "\n",
              "   lendingType capitalCity  longitude  latitude  \n",
              "49        IBRD    Santiago   -70.6475   -33.475  "
            ],
            "text/html": [
              "\n",
              "  <div id=\"df-7d1c0866-1e9d-42ea-8894-bece2b75c10c\" class=\"colab-df-container\">\n",
              "    <div>\n",
              "<style scoped>\n",
              "    .dataframe tbody tr th:only-of-type {\n",
              "        vertical-align: middle;\n",
              "    }\n",
              "\n",
              "    .dataframe tbody tr th {\n",
              "        vertical-align: top;\n",
              "    }\n",
              "\n",
              "    .dataframe thead th {\n",
              "        text-align: right;\n",
              "    }\n",
              "</style>\n",
              "<table border=\"1\" class=\"dataframe\">\n",
              "  <thead>\n",
              "    <tr style=\"text-align: right;\">\n",
              "      <th></th>\n",
              "      <th>iso3c</th>\n",
              "      <th>iso2c</th>\n",
              "      <th>name</th>\n",
              "      <th>region</th>\n",
              "      <th>adminregion</th>\n",
              "      <th>incomeLevel</th>\n",
              "      <th>lendingType</th>\n",
              "      <th>capitalCity</th>\n",
              "      <th>longitude</th>\n",
              "      <th>latitude</th>\n",
              "    </tr>\n",
              "  </thead>\n",
              "  <tbody>\n",
              "    <tr>\n",
              "      <th>49</th>\n",
              "      <td>CHL</td>\n",
              "      <td>CL</td>\n",
              "      <td>Chile</td>\n",
              "      <td>Latin America &amp; Caribbean</td>\n",
              "      <td></td>\n",
              "      <td>High income</td>\n",
              "      <td>IBRD</td>\n",
              "      <td>Santiago</td>\n",
              "      <td>-70.6475</td>\n",
              "      <td>-33.475</td>\n",
              "    </tr>\n",
              "  </tbody>\n",
              "</table>\n",
              "</div>\n",
              "    <div class=\"colab-df-buttons\">\n",
              "\n",
              "  <div class=\"colab-df-container\">\n",
              "    <button class=\"colab-df-convert\" onclick=\"convertToInteractive('df-7d1c0866-1e9d-42ea-8894-bece2b75c10c')\"\n",
              "            title=\"Convert this dataframe to an interactive table.\"\n",
              "            style=\"display:none;\">\n",
              "\n",
              "  <svg xmlns=\"http://www.w3.org/2000/svg\" height=\"24px\" viewBox=\"0 -960 960 960\">\n",
              "    <path d=\"M120-120v-720h720v720H120Zm60-500h600v-160H180v160Zm220 220h160v-160H400v160Zm0 220h160v-160H400v160ZM180-400h160v-160H180v160Zm440 0h160v-160H620v160ZM180-180h160v-160H180v160Zm440 0h160v-160H620v160Z\"/>\n",
              "  </svg>\n",
              "    </button>\n",
              "\n",
              "  <style>\n",
              "    .colab-df-container {\n",
              "      display:flex;\n",
              "      gap: 12px;\n",
              "    }\n",
              "\n",
              "    .colab-df-convert {\n",
              "      background-color: #E8F0FE;\n",
              "      border: none;\n",
              "      border-radius: 50%;\n",
              "      cursor: pointer;\n",
              "      display: none;\n",
              "      fill: #1967D2;\n",
              "      height: 32px;\n",
              "      padding: 0 0 0 0;\n",
              "      width: 32px;\n",
              "    }\n",
              "\n",
              "    .colab-df-convert:hover {\n",
              "      background-color: #E2EBFA;\n",
              "      box-shadow: 0px 1px 2px rgba(60, 64, 67, 0.3), 0px 1px 3px 1px rgba(60, 64, 67, 0.15);\n",
              "      fill: #174EA6;\n",
              "    }\n",
              "\n",
              "    .colab-df-buttons div {\n",
              "      margin-bottom: 4px;\n",
              "    }\n",
              "\n",
              "    [theme=dark] .colab-df-convert {\n",
              "      background-color: #3B4455;\n",
              "      fill: #D2E3FC;\n",
              "    }\n",
              "\n",
              "    [theme=dark] .colab-df-convert:hover {\n",
              "      background-color: #434B5C;\n",
              "      box-shadow: 0px 1px 3px 1px rgba(0, 0, 0, 0.15);\n",
              "      filter: drop-shadow(0px 1px 2px rgba(0, 0, 0, 0.3));\n",
              "      fill: #FFFFFF;\n",
              "    }\n",
              "  </style>\n",
              "\n",
              "    <script>\n",
              "      const buttonEl =\n",
              "        document.querySelector('#df-7d1c0866-1e9d-42ea-8894-bece2b75c10c button.colab-df-convert');\n",
              "      buttonEl.style.display =\n",
              "        google.colab.kernel.accessAllowed ? 'block' : 'none';\n",
              "\n",
              "      async function convertToInteractive(key) {\n",
              "        const element = document.querySelector('#df-7d1c0866-1e9d-42ea-8894-bece2b75c10c');\n",
              "        const dataTable =\n",
              "          await google.colab.kernel.invokeFunction('convertToInteractive',\n",
              "                                                    [key], {});\n",
              "        if (!dataTable) return;\n",
              "\n",
              "        const docLinkHtml = 'Like what you see? Visit the ' +\n",
              "          '<a target=\"_blank\" href=https://colab.research.google.com/notebooks/data_table.ipynb>data table notebook</a>'\n",
              "          + ' to learn more about interactive tables.';\n",
              "        element.innerHTML = '';\n",
              "        dataTable['output_type'] = 'display_data';\n",
              "        await google.colab.output.renderOutput(dataTable, element);\n",
              "        const docLink = document.createElement('div');\n",
              "        docLink.innerHTML = docLinkHtml;\n",
              "        element.appendChild(docLink);\n",
              "      }\n",
              "    </script>\n",
              "  </div>\n",
              "\n",
              "\n",
              "    </div>\n",
              "  </div>\n"
            ],
            "application/vnd.google.colaboratory.intrinsic+json": {
              "type": "dataframe",
              "repr_error": "0"
            }
          },
          "metadata": {},
          "execution_count": 7
        }
      ]
    },
    {
      "cell_type": "code",
      "source": [
        "df_info_paises.info()"
      ],
      "metadata": {
        "colab": {
          "base_uri": "https://localhost:8080/"
        },
        "id": "mWKWRO0KREQm",
        "outputId": "8877e7a4-c429-43f2-da5c-62f249d7b0cb"
      },
      "execution_count": 8,
      "outputs": [
        {
          "output_type": "stream",
          "name": "stdout",
          "text": [
            "<class 'pandas.core.frame.DataFrame'>\n",
            "RangeIndex: 296 entries, 0 to 295\n",
            "Data columns (total 10 columns):\n",
            " #   Column       Non-Null Count  Dtype  \n",
            "---  ------       --------------  -----  \n",
            " 0   iso3c        296 non-null    object \n",
            " 1   iso2c        296 non-null    object \n",
            " 2   name         296 non-null    object \n",
            " 3   region       296 non-null    object \n",
            " 4   adminregion  296 non-null    object \n",
            " 5   incomeLevel  296 non-null    object \n",
            " 6   lendingType  296 non-null    object \n",
            " 7   capitalCity  296 non-null    object \n",
            " 8   longitude    211 non-null    float64\n",
            " 9   latitude     211 non-null    float64\n",
            "dtypes: float64(2), object(8)\n",
            "memory usage: 23.3+ KB\n"
          ]
        }
      ]
    },
    {
      "cell_type": "code",
      "source": [
        "df_info_paises['region'].unique()"
      ],
      "metadata": {
        "colab": {
          "base_uri": "https://localhost:8080/"
        },
        "id": "5WoANDM3RpFS",
        "outputId": "9533fce8-0531-4f94-bf6a-133f969d295e"
      },
      "execution_count": 9,
      "outputs": [
        {
          "output_type": "execute_result",
          "data": {
            "text/plain": [
              "array(['Latin America & Caribbean ', 'Aggregates',\n",
              "       'Middle East, North Africa, Afghanistan & Pakistan',\n",
              "       'Sub-Saharan Africa ', 'Europe & Central Asia',\n",
              "       'East Asia & Pacific', 'South Asia', 'North America'], dtype=object)"
            ]
          },
          "metadata": {},
          "execution_count": 9
        }
      ]
    },
    {
      "cell_type": "code",
      "source": [
        "df_paises = df_info_paises[df_info_paises['region']!= 'Aggregates']"
      ],
      "metadata": {
        "id": "bL79F3OTR2dX"
      },
      "execution_count": 10,
      "outputs": []
    },
    {
      "cell_type": "markdown",
      "source": [],
      "metadata": {
        "id": "XeGQefH4R6fu"
      }
    },
    {
      "cell_type": "code",
      "source": [
        "# Conocer las regiones asociadas a los paises\n",
        "df_paises['region'].value_counts().reset_index()"
      ],
      "metadata": {
        "id": "ZCsgs9lp7KNK"
      },
      "execution_count": null,
      "outputs": []
    },
    {
      "cell_type": "code",
      "source": [
        "#Quitar espacios en blanco al inicio y al final\n",
        "df_paises['region'] = df_paises['region'].str.strip()"
      ],
      "metadata": {
        "id": "wZ46H0Sj7V06"
      },
      "execution_count": null,
      "outputs": []
    },
    {
      "cell_type": "code",
      "source": [
        "# Conocer las regiones asociadas a los paises\n",
        "df_paises['region'].unique()"
      ],
      "metadata": {
        "id": "O2srtOxs7fIP"
      },
      "execution_count": null,
      "outputs": []
    },
    {
      "cell_type": "code",
      "source": [
        "df_paises.head(1)"
      ],
      "metadata": {
        "id": "DO7LfunhLJF5"
      },
      "execution_count": null,
      "outputs": []
    },
    {
      "cell_type": "code",
      "source": [
        "# Tabla pivot por región y nivel de ingreso\n",
        "import pandas as pd\n",
        "pd.pivot_table(data = df_paises, index = 'region',columns = 'incomeLevel',aggfunc='size', fill_value=0)"
      ],
      "metadata": {
        "id": "zxdZFwPdOniF"
      },
      "execution_count": null,
      "outputs": []
    },
    {
      "cell_type": "code",
      "source": [
        "df_paises[(df_paises['region'] == 'East Asia & Pacific') & (df_paises['incomeLevel'] == 'Low income')]"
      ],
      "metadata": {
        "id": "LvW0qM5oVrq1"
      },
      "execution_count": null,
      "outputs": []
    },
    {
      "cell_type": "code",
      "source": [
        "df_paises[(df_paises['region'] == 'Latin America & Caribbean') & (df_paises['incomeLevel'] == 'Not classified')]"
      ],
      "metadata": {
        "id": "IBi3SBSNUaNj"
      },
      "execution_count": null,
      "outputs": []
    },
    {
      "cell_type": "code",
      "source": [
        "df_paises[df_paises['name'].str.contains('Salvador')]"
      ],
      "metadata": {
        "id": "jxOxHYYrUv5U"
      },
      "execution_count": null,
      "outputs": []
    },
    {
      "cell_type": "code",
      "source": [
        "# Graficar de acuerdo al nivel de Ingreso\n",
        "import plotly.express as px\n",
        "\n",
        "\n",
        "# Crear el gráfico coroplético básico\n",
        "fig = px.choropleth(\n",
        "    df_paises,\n",
        "    locations='iso3c',\n",
        "    color='incomeLevel',\n",
        "    hover_name='name',\n",
        "    projection='natural earth',\n",
        "    title='Nivel de ingresos paises',\n",
        "    color_continuous_scale=px.colors.sequential.Blues_r  # Cambiar la escala de colores\n",
        ")\n",
        "\n",
        "# Ajustar el tamaño de la figura\n",
        "fig.update_layout(\n",
        "    width=1000,  # Ancho del gráfico\n",
        "    height=600,  # Altura del gráfico\n",
        "    title_font_size=24  # Tamaño de la fuente del título\n",
        ")\n",
        "\n",
        "# Mostrar el gráfico\n",
        "fig.show()"
      ],
      "metadata": {
        "id": "2V87krRRUMCE"
      },
      "execution_count": null,
      "outputs": []
    },
    {
      "cell_type": "markdown",
      "source": [
        "### Obtener las series (bases de datos) del Banco Mundial\n",
        "\n",
        "`pandas_datareader.wb.get_indicators(**kwargs)`\n",
        "\n",
        "Información acerca de las series del Banco Mundial."
      ],
      "metadata": {
        "id": "kK1cyGEeW3u9"
      }
    },
    {
      "cell_type": "code",
      "source": [
        "#Obtener indicadores del Banco Mundial\n",
        "indicadores = wb.get_indicators()\n",
        "indicadores\n"
      ],
      "metadata": {
        "id": "kKSxTE1eW32w"
      },
      "execution_count": null,
      "outputs": []
    },
    {
      "cell_type": "code",
      "source": [
        "indicadores['name'].str.contains()"
      ],
      "metadata": {
        "id": "g3QvJHiJX_lp"
      },
      "execution_count": null,
      "outputs": []
    },
    {
      "cell_type": "code",
      "source": [
        "# Vusualizar\n",
        "indicadores.query(\"name.str.contains(r'^[Aa]gricultural land', regex = True)\")"
      ],
      "metadata": {
        "id": "F4NJVneOhBT9"
      },
      "execution_count": null,
      "outputs": []
    },
    {
      "cell_type": "markdown",
      "source": [
        "### Descargar series (bases de datos) de distintos paises\n",
        "\n",
        "```python\n",
        "pandas_datareader.wb.download(country=None,\n",
        "        indicator=None,\n",
        "        start=2003,\n",
        "        end=2005,\n",
        "        freq=None,\n",
        "        errors='warn',\n",
        "        **kwargs)\n",
        "```\n",
        "\n",
        "Función que descarga información de indicadores de desarrollo\n"
      ],
      "metadata": {
        "id": "WmJ0HT5CVhe2"
      }
    },
    {
      "cell_type": "code",
      "source": [
        "start = datetime(1960, 1, 1)\n",
        "end = datetime(2022, 12, 31)\n",
        "id=\"AG.LND.AGRI.ZS\""
      ],
      "metadata": {
        "id": "iK1c_t_dTFHl"
      },
      "execution_count": null,
      "outputs": []
    },
    {
      "cell_type": "code",
      "source": [
        "# Obtener data Tierras agrícolas (% del área de tierra)\n",
        "df_ag_land = wb.download(indicator=id, start =start, end=end, country='all')\n",
        "df_ag_land.head(10)"
      ],
      "metadata": {
        "id": "-o4GR83PWDpE"
      },
      "execution_count": null,
      "outputs": []
    },
    {
      "cell_type": "code",
      "source": [
        "# Resetear Indices\n",
        "df_ag_land = df_ag_land.reset_index()\n",
        "df_ag_land.head(10)"
      ],
      "metadata": {
        "id": "u4-YEPhnZ0kH"
      },
      "execution_count": null,
      "outputs": []
    },
    {
      "cell_type": "code",
      "source": [
        "df_ag_land['country'].unique()"
      ],
      "metadata": {
        "id": "ltvDmE8FZEG_"
      },
      "execution_count": null,
      "outputs": []
    },
    {
      "cell_type": "code",
      "source": [
        "df_ag_land = df_ag_land.sort_values(['country','year'],ascending=[True,True])"
      ],
      "metadata": {
        "id": "uUtV2fdUdgGi"
      },
      "execution_count": null,
      "outputs": []
    },
    {
      "cell_type": "code",
      "source": [
        "df_ag_land['country'].unique()"
      ],
      "metadata": {
        "id": "5VGcvYrscT6i"
      },
      "execution_count": null,
      "outputs": []
    },
    {
      "cell_type": "code",
      "source": [
        "regiones = list(df_paises['region'].unique())\n",
        "regiones"
      ],
      "metadata": {
        "id": "7qpv2bX2iF0J"
      },
      "execution_count": null,
      "outputs": []
    },
    {
      "cell_type": "code",
      "source": [
        "df_region = df_ag_land[df_ag_land['country'].isin(regiones)]"
      ],
      "metadata": {
        "id": "cXDRHreEZxxq"
      },
      "execution_count": null,
      "outputs": []
    },
    {
      "cell_type": "code",
      "source": [
        "import seaborn as sns\n",
        "import matplotlib.pyplot as plt"
      ],
      "metadata": {
        "id": "MF1USxw8inT6"
      },
      "execution_count": null,
      "outputs": []
    },
    {
      "cell_type": "code",
      "source": [
        "import plotly.express as px"
      ],
      "metadata": {
        "id": "jAzVVxBkivid"
      },
      "execution_count": null,
      "outputs": []
    },
    {
      "cell_type": "code",
      "source": [
        "px.line(data_frame=df_region,\n",
        "        x='year',\n",
        "        y='AG.LND.AGRI.ZS',\n",
        "        color='country',\n",
        "        title='Tierras agrícolas (% del área de tierra)')"
      ],
      "metadata": {
        "id": "CJGpaC-4izqM"
      },
      "execution_count": null,
      "outputs": []
    },
    {
      "cell_type": "code",
      "source": [],
      "metadata": {
        "id": "Ca6Kzfmea6S9"
      },
      "execution_count": null,
      "outputs": []
    },
    {
      "cell_type": "code",
      "source": [
        "# Seleccionar serie PIB\n",
        "start = datetime(1960, 1, 1)\n",
        "end = datetime(2025, 1, 1)\n",
        "indicator_id = 'NY.GDP.PCAP.KD'"
      ],
      "metadata": {
        "id": "90msiy3kBnpT"
      },
      "execution_count": null,
      "outputs": []
    },
    {
      "cell_type": "code",
      "source": [
        "gdp_per_capita = wb.download(indicator=indicator_id, start =start, end=end, country='all')"
      ],
      "metadata": {
        "id": "L4Ydr1peB97X"
      },
      "execution_count": null,
      "outputs": []
    },
    {
      "cell_type": "code",
      "source": [
        "gdp_per_capita = gdp_per_capita.reset_index()\n",
        "gdp_per_capita.head()"
      ],
      "metadata": {
        "id": "Fp9z6ET1CSRv"
      },
      "execution_count": null,
      "outputs": []
    },
    {
      "cell_type": "code",
      "source": [
        "gdp_per_capita = gdp_per_capita.sort_values(['country','year'],ascending=[True,True])"
      ],
      "metadata": {
        "id": "fgO4c9yOj_M_"
      },
      "execution_count": null,
      "outputs": []
    },
    {
      "cell_type": "code",
      "source": [
        "gdp_per_capita_region = gdp_per_capita[gdp_per_capita['country'].isin(list(df_info_paises['region'].unique()))]"
      ],
      "metadata": {
        "id": "Xk-CKqcAhBEL"
      },
      "execution_count": null,
      "outputs": []
    },
    {
      "cell_type": "code",
      "source": [
        "gdp_per_capita_region.head(10)"
      ],
      "metadata": {
        "id": "L0nPDUDEjiNo"
      },
      "execution_count": null,
      "outputs": []
    },
    {
      "cell_type": "code",
      "source": [
        "df_pib_region = gdp_per_capita_region[gdp_per_capita_region['country'].isin(regiones)]"
      ],
      "metadata": {
        "id": "4OYHEuOEbGg1"
      },
      "execution_count": null,
      "outputs": []
    },
    {
      "cell_type": "code",
      "source": [
        "px.line(data_frame=df_pib_region, x='year', y='NY.GDP.PCAP.KD', color='country', title = 'PIB per-capita (US$ constante 2015)')"
      ],
      "metadata": {
        "id": "cFkbEYKJbOFl"
      },
      "execution_count": null,
      "outputs": []
    },
    {
      "cell_type": "code",
      "source": [
        "px.line(data_frame=gdp_per_capita_region, x='year', y='NY.GDP.PCAP.KD', color='country', title = 'PIB per-capita (US$ constante 2015)')"
      ],
      "metadata": {
        "id": "U4ap94Lhjsar"
      },
      "execution_count": null,
      "outputs": []
    },
    {
      "cell_type": "code",
      "source": [
        "\n",
        "gdp_per_capita[gdp_per_capita['country'] == 'Chile']"
      ],
      "metadata": {
        "id": "VGdxyqD1bg63"
      },
      "execution_count": null,
      "outputs": []
    },
    {
      "cell_type": "markdown",
      "source": [],
      "metadata": {
        "id": "W-WWIWDBCQqj"
      }
    },
    {
      "cell_type": "code",
      "source": [
        "px.line(data_frame=gdp_per_capita[gdp_per_capita['country'] == 'Chile'], x='year', y='NY.GDP.PCAP.KD', color='country', title = 'PIB per-capita Chile (US$ constante 2015)')"
      ],
      "metadata": {
        "id": "kGtq7JoY-Vm4"
      },
      "execution_count": null,
      "outputs": []
    },
    {
      "cell_type": "markdown",
      "source": [
        "## yfinance"
      ],
      "metadata": {
        "id": "I5m5Ay5zdwHz"
      }
    },
    {
      "cell_type": "code",
      "source": [
        "import pandas_datareader.data as web\n",
        "import pandas as pd\n",
        "import datetime as dt\n"
      ],
      "metadata": {
        "id": "wxaksGstcBOC"
      },
      "execution_count": null,
      "outputs": []
    },
    {
      "cell_type": "code",
      "source": [
        "%pip install yfinance"
      ],
      "metadata": {
        "id": "TdYPnFCHdCNX"
      },
      "execution_count": null,
      "outputs": []
    },
    {
      "cell_type": "code",
      "source": [
        "import yfinance as yf"
      ],
      "metadata": {
        "id": "svkxB-wKcJ8T"
      },
      "execution_count": null,
      "outputs": []
    },
    {
      "cell_type": "code",
      "source": [
        "dat = yf.Ticker(\"MSFT\")\n",
        "dat"
      ],
      "metadata": {
        "id": "ny6stUDhcDnb"
      },
      "execution_count": null,
      "outputs": []
    },
    {
      "cell_type": "code",
      "source": [
        "dat.history(period='1mo')"
      ],
      "metadata": {
        "id": "7Ov0pR_1db9e"
      },
      "execution_count": null,
      "outputs": []
    }
  ]
}