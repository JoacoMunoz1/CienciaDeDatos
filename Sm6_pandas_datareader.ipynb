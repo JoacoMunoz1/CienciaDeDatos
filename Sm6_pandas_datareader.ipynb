{
  "nbformat": 4,
  "nbformat_minor": 0,
  "metadata": {
    "colab": {
      "provenance": [],
      "include_colab_link": true
    },
    "kernelspec": {
      "name": "python3",
      "display_name": "Python 3"
    },
    "language_info": {
      "name": "python"
    }
  },
  "cells": [
    {
      "cell_type": "markdown",
      "metadata": {
        "id": "view-in-github",
        "colab_type": "text"
      },
      "source": [
        "<a href=\"https://colab.research.google.com/github/JoacoMunoz1/CienciaDeDatos/blob/main/Sm6_pandas_datareader.ipynb\" target=\"_parent\"><img src=\"https://colab.research.google.com/assets/colab-badge.svg\" alt=\"Open In Colab\"/></a>"
      ]
    },
    {
      "cell_type": "markdown",
      "source": [
        "## **pandas_datareader**\n",
        "\n",
        "Esta biblioteca permirte acceder a distintos Set de Datos de forma remota.\n",
        "\n",
        "\n",
        "A continuación revisaremos algunas conexiones que ofrece esta biblioteca."
      ],
      "metadata": {
        "id": "wcLdr3ct6O_E"
      }
    },
    {
      "cell_type": "code",
      "execution_count": 1,
      "metadata": {
        "id": "5LlZfacYBffS",
        "colab": {
          "base_uri": "https://localhost:8080/"
        },
        "outputId": "31783245-51ef-49f2-8099-72d5df813708"
      },
      "outputs": [
        {
          "output_type": "stream",
          "name": "stdout",
          "text": [
            "Requirement already satisfied: pandas_datareader in /usr/local/lib/python3.11/dist-packages (0.10.0)\n",
            "Requirement already satisfied: lxml in /usr/local/lib/python3.11/dist-packages (from pandas_datareader) (5.4.0)\n",
            "Requirement already satisfied: pandas>=0.23 in /usr/local/lib/python3.11/dist-packages (from pandas_datareader) (2.2.2)\n",
            "Requirement already satisfied: requests>=2.19.0 in /usr/local/lib/python3.11/dist-packages (from pandas_datareader) (2.32.3)\n",
            "Requirement already satisfied: numpy>=1.23.2 in /usr/local/lib/python3.11/dist-packages (from pandas>=0.23->pandas_datareader) (2.0.2)\n",
            "Requirement already satisfied: python-dateutil>=2.8.2 in /usr/local/lib/python3.11/dist-packages (from pandas>=0.23->pandas_datareader) (2.9.0.post0)\n",
            "Requirement already satisfied: pytz>=2020.1 in /usr/local/lib/python3.11/dist-packages (from pandas>=0.23->pandas_datareader) (2025.2)\n",
            "Requirement already satisfied: tzdata>=2022.7 in /usr/local/lib/python3.11/dist-packages (from pandas>=0.23->pandas_datareader) (2025.2)\n",
            "Requirement already satisfied: charset-normalizer<4,>=2 in /usr/local/lib/python3.11/dist-packages (from requests>=2.19.0->pandas_datareader) (3.4.2)\n",
            "Requirement already satisfied: idna<4,>=2.5 in /usr/local/lib/python3.11/dist-packages (from requests>=2.19.0->pandas_datareader) (3.10)\n",
            "Requirement already satisfied: urllib3<3,>=1.21.1 in /usr/local/lib/python3.11/dist-packages (from requests>=2.19.0->pandas_datareader) (2.4.0)\n",
            "Requirement already satisfied: certifi>=2017.4.17 in /usr/local/lib/python3.11/dist-packages (from requests>=2.19.0->pandas_datareader) (2025.6.15)\n",
            "Requirement already satisfied: six>=1.5 in /usr/local/lib/python3.11/dist-packages (from python-dateutil>=2.8.2->pandas>=0.23->pandas_datareader) (1.17.0)\n"
          ]
        }
      ],
      "source": [
        "%pip install pandas_datareader"
      ]
    },
    {
      "cell_type": "code",
      "source": [
        "from IPython.display import IFrame\n",
        "\n",
        "# Mostrar la documentación de pandas-datareader en un iframe\n",
        "IFrame('https://pandas-datareader.readthedocs.io/en/latest/py-modindex.html', width=1000, height=400)\n"
      ],
      "metadata": {
        "colab": {
          "base_uri": "https://localhost:8080/",
          "height": 421
        },
        "id": "094GIddrSGO3",
        "outputId": "212daa64-f50e-4aa2-c2c1-e98ff802f37e"
      },
      "execution_count": 2,
      "outputs": [
        {
          "output_type": "execute_result",
          "data": {
            "text/plain": [
              "<IPython.lib.display.IFrame at 0x7d93ba981590>"
            ],
            "text/html": [
              "\n",
              "        <iframe\n",
              "            width=\"1000\"\n",
              "            height=\"400\"\n",
              "            src=\"https://pandas-datareader.readthedocs.io/en/latest/py-modindex.html\"\n",
              "            frameborder=\"0\"\n",
              "            allowfullscreen\n",
              "            \n",
              "        ></iframe>\n",
              "        "
            ]
          },
          "metadata": {},
          "execution_count": 2
        }
      ]
    },
    {
      "cell_type": "markdown",
      "source": [
        "## Información obtenida desde el Banco Mundial"
      ],
      "metadata": {
        "id": "3lTfKJeVTy5O"
      }
    },
    {
      "cell_type": "code",
      "source": [
        "from pandas_datareader import wb\n",
        "from datetime import datetime"
      ],
      "metadata": {
        "id": "HB1x1_T_Q65u"
      },
      "execution_count": 3,
      "outputs": []
    },
    {
      "cell_type": "markdown",
      "source": [
        "### Seleccionar Paises\n",
        "\n",
        "`pandas_datareader.wb.get_countries(**kwargs)`\n",
        "\n",
        "Información administrativa de los paises registrados en la base de datos del Banco Mundial."
      ],
      "metadata": {
        "id": "RsfvaGkcT683"
      }
    },
    {
      "cell_type": "code",
      "source": [
        "wb.get_countries()"
      ],
      "metadata": {
        "id": "0zdIHB3bQJu1"
      },
      "execution_count": null,
      "outputs": []
    },
    {
      "cell_type": "code",
      "source": [
        "df_info_paises = wb.get_countries()\n",
        "df_info_paises.head()"
      ],
      "metadata": {
        "id": "E-U6bO8XTK4T"
      },
      "execution_count": null,
      "outputs": []
    },
    {
      "cell_type": "code",
      "source": [
        "# Seleccionar pais Chile\n",
        "df_info_paises.query(\"name=='Chile'\")"
      ],
      "metadata": {
        "id": "qLg7BRPEkX0B"
      },
      "execution_count": null,
      "outputs": []
    },
    {
      "cell_type": "code",
      "source": [
        "df_info_paises[df_info_paises['name'].str.contains('hile')]"
      ],
      "metadata": {
        "id": "UjcWwQkLQq6A"
      },
      "execution_count": null,
      "outputs": []
    },
    {
      "cell_type": "code",
      "source": [
        "df_info_paises.info()"
      ],
      "metadata": {
        "id": "mWKWRO0KREQm"
      },
      "execution_count": null,
      "outputs": []
    },
    {
      "cell_type": "code",
      "source": [
        "df_info_paises['region'].unique()"
      ],
      "metadata": {
        "id": "5WoANDM3RpFS"
      },
      "execution_count": null,
      "outputs": []
    },
    {
      "cell_type": "code",
      "source": [
        "df_paises = df_info_paises[df_info_paises['region']!= 'Aggregates']"
      ],
      "metadata": {
        "id": "bL79F3OTR2dX"
      },
      "execution_count": null,
      "outputs": []
    },
    {
      "cell_type": "markdown",
      "source": [],
      "metadata": {
        "id": "XeGQefH4R6fu"
      }
    },
    {
      "cell_type": "code",
      "source": [
        "# Conocer las regiones asociadas a los paises\n",
        "df_paises['region'].value_counts().reset_index()"
      ],
      "metadata": {
        "id": "ZCsgs9lp7KNK"
      },
      "execution_count": null,
      "outputs": []
    },
    {
      "cell_type": "code",
      "source": [
        "#Quitar espacios en blanco al inicio y al final\n",
        "df_paises['region'] = df_paises['region'].str.strip()"
      ],
      "metadata": {
        "id": "wZ46H0Sj7V06"
      },
      "execution_count": null,
      "outputs": []
    },
    {
      "cell_type": "code",
      "source": [
        "# Conocer las regiones asociadas a los paises\n",
        "df_paises['region'].unique()"
      ],
      "metadata": {
        "id": "O2srtOxs7fIP"
      },
      "execution_count": null,
      "outputs": []
    },
    {
      "cell_type": "code",
      "source": [
        "df_paises.head(1)"
      ],
      "metadata": {
        "id": "DO7LfunhLJF5"
      },
      "execution_count": null,
      "outputs": []
    },
    {
      "cell_type": "code",
      "source": [
        "# Tabla pivot por región y nivel de ingreso\n",
        "import pandas as pd\n",
        "pd.pivot_table(data = df_paises, index = 'region',columns = 'incomeLevel',aggfunc='size', fill_value=0)"
      ],
      "metadata": {
        "id": "zxdZFwPdOniF"
      },
      "execution_count": null,
      "outputs": []
    },
    {
      "cell_type": "code",
      "source": [
        "df_paises[(df_paises['region'] == 'East Asia & Pacific') & (df_paises['incomeLevel'] == 'Low income')]"
      ],
      "metadata": {
        "id": "LvW0qM5oVrq1"
      },
      "execution_count": null,
      "outputs": []
    },
    {
      "cell_type": "code",
      "source": [
        "df_paises[(df_paises['region'] == 'Latin America & Caribbean') & (df_paises['incomeLevel'] == 'Not classified')]"
      ],
      "metadata": {
        "id": "IBi3SBSNUaNj"
      },
      "execution_count": null,
      "outputs": []
    },
    {
      "cell_type": "code",
      "source": [
        "df_paises[df_paises['name'].str.contains('Salvador')]"
      ],
      "metadata": {
        "id": "jxOxHYYrUv5U"
      },
      "execution_count": null,
      "outputs": []
    },
    {
      "cell_type": "code",
      "source": [
        "# Graficar de acuerdo al nivel de Ingreso\n",
        "import plotly.express as px\n",
        "\n",
        "\n",
        "# Crear el gráfico coroplético básico\n",
        "fig = px.choropleth(\n",
        "    df_paises,\n",
        "    locations='iso3c',\n",
        "    color='incomeLevel',\n",
        "    hover_name='name',\n",
        "    projection='natural earth',\n",
        "    title='Nivel de ingresos paises',\n",
        "    color_continuous_scale=px.colors.sequential.Blues_r  # Cambiar la escala de colores\n",
        ")\n",
        "\n",
        "# Ajustar el tamaño de la figura\n",
        "fig.update_layout(\n",
        "    width=1000,  # Ancho del gráfico\n",
        "    height=600,  # Altura del gráfico\n",
        "    title_font_size=24  # Tamaño de la fuente del título\n",
        ")\n",
        "\n",
        "# Mostrar el gráfico\n",
        "fig.show()"
      ],
      "metadata": {
        "id": "2V87krRRUMCE"
      },
      "execution_count": null,
      "outputs": []
    },
    {
      "cell_type": "markdown",
      "source": [
        "### Obtener las series (bases de datos) del Banco Mundial\n",
        "\n",
        "`pandas_datareader.wb.get_indicators(**kwargs)`\n",
        "\n",
        "Información acerca de las series del Banco Mundial."
      ],
      "metadata": {
        "id": "kK1cyGEeW3u9"
      }
    },
    {
      "cell_type": "code",
      "source": [
        "#Obtener indicadores del Banco Mundial\n",
        "indicadores = wb.get_indicators()\n",
        "indicadores\n"
      ],
      "metadata": {
        "id": "kKSxTE1eW32w"
      },
      "execution_count": null,
      "outputs": []
    },
    {
      "cell_type": "code",
      "source": [
        "indicadores['name'].str.contains()"
      ],
      "metadata": {
        "id": "g3QvJHiJX_lp"
      },
      "execution_count": null,
      "outputs": []
    },
    {
      "cell_type": "code",
      "source": [
        "# Vusualizar\n",
        "indicadores.query(\"name.str.contains(r'^[Aa]gricultural land', regex = True)\")"
      ],
      "metadata": {
        "id": "F4NJVneOhBT9"
      },
      "execution_count": null,
      "outputs": []
    },
    {
      "cell_type": "markdown",
      "source": [
        "### Descargar series (bases de datos) de distintos paises\n",
        "\n",
        "```python\n",
        "pandas_datareader.wb.download(country=None,\n",
        "        indicator=None,\n",
        "        start=2003,\n",
        "        end=2005,\n",
        "        freq=None,\n",
        "        errors='warn',\n",
        "        **kwargs)\n",
        "```\n",
        "\n",
        "Función que descarga información de indicadores de desarrollo\n"
      ],
      "metadata": {
        "id": "WmJ0HT5CVhe2"
      }
    },
    {
      "cell_type": "code",
      "source": [
        "start = datetime(1960, 1, 1)\n",
        "end = datetime(2022, 12, 31)\n",
        "id=\"AG.LND.AGRI.ZS\""
      ],
      "metadata": {
        "id": "iK1c_t_dTFHl"
      },
      "execution_count": null,
      "outputs": []
    },
    {
      "cell_type": "code",
      "source": [
        "# Obtener data Tierras agrícolas (% del área de tierra)\n",
        "df_ag_land = wb.download(indicator=id, start =start, end=end, country='all')\n",
        "df_ag_land.head(10)"
      ],
      "metadata": {
        "id": "-o4GR83PWDpE"
      },
      "execution_count": null,
      "outputs": []
    },
    {
      "cell_type": "code",
      "source": [
        "# Resetear Indices\n",
        "df_ag_land = df_ag_land.reset_index()\n",
        "df_ag_land.head(10)"
      ],
      "metadata": {
        "id": "u4-YEPhnZ0kH"
      },
      "execution_count": null,
      "outputs": []
    },
    {
      "cell_type": "code",
      "source": [
        "df_ag_land['country'].unique()"
      ],
      "metadata": {
        "id": "ltvDmE8FZEG_"
      },
      "execution_count": null,
      "outputs": []
    },
    {
      "cell_type": "code",
      "source": [
        "df_ag_land = df_ag_land.sort_values(['country','year'],ascending=[True,True])"
      ],
      "metadata": {
        "id": "uUtV2fdUdgGi"
      },
      "execution_count": null,
      "outputs": []
    },
    {
      "cell_type": "code",
      "source": [
        "df_ag_land['country'].unique()"
      ],
      "metadata": {
        "id": "5VGcvYrscT6i"
      },
      "execution_count": null,
      "outputs": []
    },
    {
      "cell_type": "code",
      "source": [
        "regiones = list(df_paises['region'].unique())\n",
        "regiones"
      ],
      "metadata": {
        "id": "7qpv2bX2iF0J"
      },
      "execution_count": null,
      "outputs": []
    },
    {
      "cell_type": "code",
      "source": [
        "df_region = df_ag_land[df_ag_land['country'].isin(regiones)]"
      ],
      "metadata": {
        "id": "cXDRHreEZxxq"
      },
      "execution_count": null,
      "outputs": []
    },
    {
      "cell_type": "code",
      "source": [
        "import seaborn as sns\n",
        "import matplotlib.pyplot as plt"
      ],
      "metadata": {
        "id": "MF1USxw8inT6"
      },
      "execution_count": null,
      "outputs": []
    },
    {
      "cell_type": "code",
      "source": [
        "import plotly.express as px"
      ],
      "metadata": {
        "id": "jAzVVxBkivid"
      },
      "execution_count": null,
      "outputs": []
    },
    {
      "cell_type": "code",
      "source": [
        "px.line(data_frame=df_region,\n",
        "        x='year',\n",
        "        y='AG.LND.AGRI.ZS',\n",
        "        color='country',\n",
        "        title='Tierras agrícolas (% del área de tierra)')"
      ],
      "metadata": {
        "id": "CJGpaC-4izqM"
      },
      "execution_count": null,
      "outputs": []
    },
    {
      "cell_type": "code",
      "source": [],
      "metadata": {
        "id": "Ca6Kzfmea6S9"
      },
      "execution_count": null,
      "outputs": []
    },
    {
      "cell_type": "code",
      "source": [
        "# Seleccionar serie PIB\n",
        "start = datetime(1960, 1, 1)\n",
        "end = datetime(2025, 1, 1)\n",
        "indicator_id = 'NY.GDP.PCAP.KD'"
      ],
      "metadata": {
        "id": "90msiy3kBnpT"
      },
      "execution_count": null,
      "outputs": []
    },
    {
      "cell_type": "code",
      "source": [
        "gdp_per_capita = wb.download(indicator=indicator_id, start =start, end=end, country='all')"
      ],
      "metadata": {
        "id": "L4Ydr1peB97X"
      },
      "execution_count": null,
      "outputs": []
    },
    {
      "cell_type": "code",
      "source": [
        "gdp_per_capita = gdp_per_capita.reset_index()\n",
        "gdp_per_capita.head()"
      ],
      "metadata": {
        "id": "Fp9z6ET1CSRv"
      },
      "execution_count": null,
      "outputs": []
    },
    {
      "cell_type": "code",
      "source": [
        "gdp_per_capita = gdp_per_capita.sort_values(['country','year'],ascending=[True,True])"
      ],
      "metadata": {
        "id": "fgO4c9yOj_M_"
      },
      "execution_count": null,
      "outputs": []
    },
    {
      "cell_type": "code",
      "source": [
        "gdp_per_capita_region = gdp_per_capita[gdp_per_capita['country'].isin(list(df_info_paises['region'].unique()))]"
      ],
      "metadata": {
        "id": "Xk-CKqcAhBEL"
      },
      "execution_count": null,
      "outputs": []
    },
    {
      "cell_type": "code",
      "source": [
        "gdp_per_capita_region.head(10)"
      ],
      "metadata": {
        "id": "L0nPDUDEjiNo"
      },
      "execution_count": null,
      "outputs": []
    },
    {
      "cell_type": "code",
      "source": [
        "df_pib_region = gdp_per_capita_region[gdp_per_capita_region['country'].isin(regiones)]"
      ],
      "metadata": {
        "id": "4OYHEuOEbGg1"
      },
      "execution_count": null,
      "outputs": []
    },
    {
      "cell_type": "code",
      "source": [
        "px.line(data_frame=df_pib_region, x='year', y='NY.GDP.PCAP.KD', color='country', title = 'PIB per-capita (US$ constante 2015)')"
      ],
      "metadata": {
        "id": "cFkbEYKJbOFl"
      },
      "execution_count": null,
      "outputs": []
    },
    {
      "cell_type": "code",
      "source": [
        "px.line(data_frame=gdp_per_capita_region, x='year', y='NY.GDP.PCAP.KD', color='country', title = 'PIB per-capita (US$ constante 2015)')"
      ],
      "metadata": {
        "id": "U4ap94Lhjsar"
      },
      "execution_count": null,
      "outputs": []
    },
    {
      "cell_type": "code",
      "source": [
        "\n",
        "gdp_per_capita[gdp_per_capita['country'] == 'Chile']"
      ],
      "metadata": {
        "id": "VGdxyqD1bg63"
      },
      "execution_count": null,
      "outputs": []
    },
    {
      "cell_type": "markdown",
      "source": [],
      "metadata": {
        "id": "W-WWIWDBCQqj"
      }
    },
    {
      "cell_type": "code",
      "source": [
        "px.line(data_frame=gdp_per_capita[gdp_per_capita['country'] == 'Chile'], x='year', y='NY.GDP.PCAP.KD', color='country', title = 'PIB per-capita Chile (US$ constante 2015)')"
      ],
      "metadata": {
        "id": "kGtq7JoY-Vm4"
      },
      "execution_count": null,
      "outputs": []
    },
    {
      "cell_type": "markdown",
      "source": [
        "## yfinance"
      ],
      "metadata": {
        "id": "I5m5Ay5zdwHz"
      }
    },
    {
      "cell_type": "code",
      "source": [
        "import pandas_datareader.data as web\n",
        "import pandas as pd\n",
        "import datetime as dt\n"
      ],
      "metadata": {
        "id": "wxaksGstcBOC"
      },
      "execution_count": null,
      "outputs": []
    },
    {
      "cell_type": "code",
      "source": [
        "%pip install yfinance"
      ],
      "metadata": {
        "id": "TdYPnFCHdCNX"
      },
      "execution_count": null,
      "outputs": []
    },
    {
      "cell_type": "code",
      "source": [
        "import yfinance as yf"
      ],
      "metadata": {
        "id": "svkxB-wKcJ8T"
      },
      "execution_count": null,
      "outputs": []
    },
    {
      "cell_type": "code",
      "source": [
        "dat = yf.Ticker(\"MSFT\")\n",
        "dat"
      ],
      "metadata": {
        "id": "ny6stUDhcDnb"
      },
      "execution_count": null,
      "outputs": []
    },
    {
      "cell_type": "code",
      "source": [
        "dat.history(period='1mo')"
      ],
      "metadata": {
        "id": "7Ov0pR_1db9e"
      },
      "execution_count": null,
      "outputs": []
    }
  ]
}